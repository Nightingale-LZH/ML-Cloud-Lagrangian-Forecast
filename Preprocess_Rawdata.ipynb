{
 "cells": [
  {
   "cell_type": "markdown",
   "id": "97ab78d4-5a1c-4f6d-bfec-25230d596f40",
   "metadata": {},
   "source": [
    "# Preprocess"
   ]
  },
  {
   "cell_type": "code",
   "execution_count": 1,
   "id": "7babe7dc-eadf-4a7e-ae46-0cd2ce4ef38b",
   "metadata": {},
   "outputs": [],
   "source": [
    "import numpy as np\n",
    "import pandas as pd\n",
    "import LZH_Utilities as utl"
   ]
  },
  {
   "cell_type": "markdown",
   "id": "a36b976d-7b37-4d0f-8b72-ccada2284b76",
   "metadata": {
    "tags": []
   },
   "source": [
    "### Raw Text File to Raw CSV File"
   ]
  },
  {
   "cell_type": "code",
   "execution_count": 2,
   "id": "55a1bf58-be16-401d-8fab-52a2eff688e0",
   "metadata": {},
   "outputs": [],
   "source": [
    "def convert_raw_txt_to_raw_csv(file_name):\n",
    "    pd.read_csv(\n",
    "        \"{0}/{1}.txt\".format(utl.DATA_DIRECTORY_RAW_FILE_TXT, file_name), sep=\" +\"\n",
    "    ).to_csv(\n",
    "        \"{0}/{1}.csv\".format(utl.DATA_DIRECTORY_RAW_FILE_CSV, file_name), index=False\n",
    "    )"
   ]
  },
  {
   "cell_type": "code",
   "execution_count": 3,
   "id": "80c44de8-ad5c-4d17-b84a-981955a5b21f",
   "metadata": {},
   "outputs": [
    {
     "name": "stderr",
     "output_type": "stream",
     "text": [
      "/tmp/ipykernel_28774/2738769580.py:2: ParserWarning: Falling back to the 'python' engine because the 'c' engine does not support regex separators (separators > 1 char and different from '\\s+' are interpreted as regex); you can avoid this warning by specifying engine='python'.\n",
      "  pd.read_csv(\n",
      "/tmp/ipykernel_28774/2738769580.py:2: ParserWarning: Falling back to the 'python' engine because the 'c' engine does not support regex separators (separators > 1 char and different from '\\s+' are interpreted as regex); you can avoid this warning by specifying engine='python'.\n",
      "  pd.read_csv(\n",
      "/tmp/ipykernel_28774/2738769580.py:2: ParserWarning: Falling back to the 'python' engine because the 'c' engine does not support regex separators (separators > 1 char and different from '\\s+' are interpreted as regex); you can avoid this warning by specifying engine='python'.\n",
      "  pd.read_csv(\n",
      "/tmp/ipykernel_28774/2738769580.py:2: ParserWarning: Falling back to the 'python' engine because the 'c' engine does not support regex separators (separators > 1 char and different from '\\s+' are interpreted as regex); you can avoid this warning by specifying engine='python'.\n",
      "  pd.read_csv(\n",
      "/tmp/ipykernel_28774/2738769580.py:2: ParserWarning: Falling back to the 'python' engine because the 'c' engine does not support regex separators (separators > 1 char and different from '\\s+' are interpreted as regex); you can avoid this warning by specifying engine='python'.\n",
      "  pd.read_csv(\n",
      "/tmp/ipykernel_28774/2738769580.py:2: ParserWarning: Falling back to the 'python' engine because the 'c' engine does not support regex separators (separators > 1 char and different from '\\s+' are interpreted as regex); you can avoid this warning by specifying engine='python'.\n",
      "  pd.read_csv(\n",
      "/tmp/ipykernel_28774/2738769580.py:2: ParserWarning: Falling back to the 'python' engine because the 'c' engine does not support regex separators (separators > 1 char and different from '\\s+' are interpreted as regex); you can avoid this warning by specifying engine='python'.\n",
      "  pd.read_csv(\n",
      "/tmp/ipykernel_28774/2738769580.py:2: ParserWarning: Falling back to the 'python' engine because the 'c' engine does not support regex separators (separators > 1 char and different from '\\s+' are interpreted as regex); you can avoid this warning by specifying engine='python'.\n",
      "  pd.read_csv(\n",
      "/tmp/ipykernel_28774/2738769580.py:2: ParserWarning: Falling back to the 'python' engine because the 'c' engine does not support regex separators (separators > 1 char and different from '\\s+' are interpreted as regex); you can avoid this warning by specifying engine='python'.\n",
      "  pd.read_csv(\n"
     ]
    }
   ],
   "source": [
    "convert_raw_txt_to_raw_csv(\"Lagrangian_LTS_1000_700\")\n",
    "convert_raw_txt_to_raw_csv(\"Lagrangian_SST\")\n",
    "convert_raw_txt_to_raw_csv(\"Lagrangian_Subsidence_700\")\n",
    "convert_raw_txt_to_raw_csv(\"Lagrangian_Night_Day\")\n",
    "convert_raw_txt_to_raw_csv(\"Lagrangian_Total_Cloud_Cover\")\n",
    "convert_raw_txt_to_raw_csv(\"Lagrangian_RH_1000\")\n",
    "convert_raw_txt_to_raw_csv(\"Lagrangian_q_700\")\n",
    "convert_raw_txt_to_raw_csv(\"Lagrangian_wsp_10m\")\n",
    "convert_raw_txt_to_raw_csv(\"Lagrangian_Unobstructed_Low_Cloud\")"
   ]
  },
  {
   "cell_type": "markdown",
   "id": "f73ae213-6607-4b44-beb0-ada2a1c475f8",
   "metadata": {
    "tags": []
   },
   "source": [
    "### Separate Raw CSV File into Raw Time Series Files"
   ]
  },
  {
   "cell_type": "code",
   "execution_count": 4,
   "id": "57fa5891-4b62-4296-8789-00c9801f5c58",
   "metadata": {
    "tags": []
   },
   "outputs": [
    {
     "name": "stdout",
     "output_type": "stream",
     "text": [
      "(169824, 10)\n",
      "(169824, 10)\n",
      "(169824, 10)\n",
      "(169824, 10)\n",
      "(169824, 10)\n",
      "(169824, 10)\n",
      "(169824, 10)\n",
      "(169824, 10)\n",
      "(169824, 10)\n"
     ]
    }
   ],
   "source": [
    "df_LTS = pd.read_csv(\"{0}/{1}.csv\".format(utl.DATA_DIRECTORY_RAW_FILE_CSV, \"Lagrangian_LTS_1000_700\"))\n",
    "print(df_LTS.shape)\n",
    "\n",
    "df_SST = pd.read_csv(\"{0}/{1}.csv\".format(utl.DATA_DIRECTORY_RAW_FILE_CSV, \"Lagrangian_SST\"))\n",
    "print(df_SST.shape)\n",
    "\n",
    "df_Subsidence = pd.read_csv(\"{0}/{1}.csv\".format(utl.DATA_DIRECTORY_RAW_FILE_CSV, \"Lagrangian_Subsidence_700\"))\n",
    "print(df_Subsidence.shape)\n",
    "\n",
    "df_Night_Day = pd.read_csv(\"{0}/{1}.csv\".format(utl.DATA_DIRECTORY_RAW_FILE_CSV, \"Lagrangian_Night_Day\"))\n",
    "print(df_Night_Day.shape)\n",
    "\n",
    "df_RH = pd.read_csv(\"{0}/{1}.csv\".format(utl.DATA_DIRECTORY_RAW_FILE_CSV, \"Lagrangian_RH_1000\"))\n",
    "print(df_RH.shape)\n",
    "\n",
    "df_q = pd.read_csv(\"{0}/{1}.csv\".format(utl.DATA_DIRECTORY_RAW_FILE_CSV, \"Lagrangian_q_700\"))\n",
    "print(df_q.shape)\n",
    "\n",
    "df_wsp = pd.read_csv(\"{0}/{1}.csv\".format(utl.DATA_DIRECTORY_RAW_FILE_CSV, \"Lagrangian_wsp_10m\"))\n",
    "print(df_wsp.shape)\n",
    "\n",
    "df_TTC = pd.read_csv(\"{0}/{1}.csv\".format(utl.DATA_DIRECTORY_RAW_FILE_CSV, \"Lagrangian_Total_Cloud_Cover\"))\n",
    "print(df_TTC.shape)\n",
    "\n",
    "df_UnobstructedLC = pd.read_csv(\"{0}/{1}.csv\".format(utl.DATA_DIRECTORY_RAW_FILE_CSV, \"Lagrangian_Unobstructed_Low_Cloud\"))\n",
    "print(df_TTC.shape)"
   ]
  },
  {
   "cell_type": "code",
   "execution_count": 5,
   "id": "1bb86367-a266-462e-b963-22efa2e86437",
   "metadata": {
    "tags": []
   },
   "outputs": [],
   "source": [
    "df_time_series = utl.create_empty_time_series_data()\n",
    "\n",
    "for idx in np.arange(9):\n",
    "    df_time_series[idx][\"index\"] = df_LTS[\"index\"]\n",
    "    df_time_series[idx][\"LTS\"] = df_LTS[\"T{0}\".format(idx)]\n",
    "    df_time_series[idx][\"SST\"] = df_SST[\"T{0}\".format(idx)]\n",
    "    df_time_series[idx][\"Subsidence\"] = df_Subsidence[\"T{0}\".format(idx)]\n",
    "    df_time_series[idx][\"Night_Day\"] = df_Night_Day[\"T{0}\".format(idx)]\n",
    "    df_time_series[idx][\"RH\"] = df_RH[\"T{0}\".format(idx)]\n",
    "    df_time_series[idx][\"q\"] = df_q[\"T{0}\".format(idx)]\n",
    "    df_time_series[idx][\"wsp\"] = df_wsp[\"T{0}\".format(idx)]\n",
    "    df_time_series[idx][\"TCC\"] = df_TTC[\"T{0}\".format(idx)]\n",
    "    df_time_series[idx][\"UnobstructedLC\"] = df_UnobstructedLC[\"T{0}\".format(idx)]\n",
    "\n",
    "# save checkpoint\n",
    "utl.save_time_series_data(\"all_dataset\", df_time_series)"
   ]
  },
  {
   "cell_type": "code",
   "execution_count": null,
   "id": "ef2659c2-e99f-4444-a40c-9b50f990f89d",
   "metadata": {},
   "outputs": [],
   "source": []
  },
  {
   "cell_type": "code",
   "execution_count": null,
   "id": "3ed97f13-cf86-4b00-b16d-5faa78f3c26a",
   "metadata": {},
   "outputs": [],
   "source": []
  },
  {
   "cell_type": "code",
   "execution_count": null,
   "id": "c8481f5f-4d54-4cca-afcd-497ba576d596",
   "metadata": {},
   "outputs": [],
   "source": []
  }
 ],
 "metadata": {
  "kernelspec": {
   "display_name": "Python 3 (ipykernel)",
   "language": "python",
   "name": "python3"
  },
  "language_info": {
   "codemirror_mode": {
    "name": "ipython",
    "version": 3
   },
   "file_extension": ".py",
   "mimetype": "text/x-python",
   "name": "python",
   "nbconvert_exporter": "python",
   "pygments_lexer": "ipython3",
   "version": "3.8.12"
  }
 },
 "nbformat": 4,
 "nbformat_minor": 5
}
