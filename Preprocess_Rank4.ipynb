{
 "cells": [
  {
   "cell_type": "markdown",
   "id": "97ab78d4-5a1c-4f6d-bfec-25230d596f40",
   "metadata": {},
   "source": [
    "# Preprocess"
   ]
  },
  {
   "cell_type": "code",
   "execution_count": 1,
   "id": "7babe7dc-eadf-4a7e-ae46-0cd2ce4ef38b",
   "metadata": {},
   "outputs": [],
   "source": [
    "import numpy as np\n",
    "import pandas as pd\n",
    "import LZH_Utilities as utl"
   ]
  },
  {
   "cell_type": "markdown",
   "id": "9ad7de92-0165-4767-bd25-a89e693056ee",
   "metadata": {},
   "source": [
    "### Sort Time Series Files"
   ]
  },
  {
   "cell_type": "code",
   "execution_count": 2,
   "id": "8a38a074-4649-4127-8071-b9e47f732575",
   "metadata": {},
   "outputs": [],
   "source": [
    "def reduce_as_AND(arr):\n",
    "    for element in arr:\n",
    "        if (not element):\n",
    "            return False\n",
    "    return True"
   ]
  },
  {
   "cell_type": "code",
   "execution_count": 3,
   "id": "77147c04-a5d5-4d16-93d4-b3b7856a9f53",
   "metadata": {},
   "outputs": [],
   "source": [
    "RANK = 4"
   ]
  },
  {
   "cell_type": "code",
   "execution_count": 4,
   "id": "09a54682-2284-4ea3-b2f3-b6b3b9b999ca",
   "metadata": {},
   "outputs": [
    {
     "name": "stdout",
     "output_type": "stream",
     "text": [
      "0 out of 169824 Finished, Runtime: 0s\n",
      "5000 out of 169824 Finished, Runtime: 7s\n",
      "10000 out of 169824 Finished, Runtime: 13s\n",
      "15000 out of 169824 Finished, Runtime: 19s\n",
      "20000 out of 169824 Finished, Runtime: 26s\n",
      "25000 out of 169824 Finished, Runtime: 32s\n",
      "30000 out of 169824 Finished, Runtime: 38s\n",
      "35000 out of 169824 Finished, Runtime: 44s\n",
      "40000 out of 169824 Finished, Runtime: 50s\n",
      "45000 out of 169824 Finished, Runtime: 57s\n",
      "50000 out of 169824 Finished, Runtime: 1m 3s\n",
      "55000 out of 169824 Finished, Runtime: 1m 9s\n",
      "60000 out of 169824 Finished, Runtime: 1m 15s\n",
      "65000 out of 169824 Finished, Runtime: 1m 22s\n",
      "70000 out of 169824 Finished, Runtime: 1m 28s\n",
      "75000 out of 169824 Finished, Runtime: 1m 34s\n",
      "80000 out of 169824 Finished, Runtime: 1m 40s\n",
      "85000 out of 169824 Finished, Runtime: 1m 47s\n",
      "90000 out of 169824 Finished, Runtime: 1m 53s\n",
      "95000 out of 169824 Finished, Runtime: 1m 59s\n",
      "100000 out of 169824 Finished, Runtime: 2m 5s\n",
      "105000 out of 169824 Finished, Runtime: 2m 12s\n",
      "110000 out of 169824 Finished, Runtime: 2m 18s\n",
      "115000 out of 169824 Finished, Runtime: 2m 24s\n",
      "120000 out of 169824 Finished, Runtime: 2m 30s\n",
      "125000 out of 169824 Finished, Runtime: 2m 37s\n",
      "130000 out of 169824 Finished, Runtime: 2m 43s\n",
      "135000 out of 169824 Finished, Runtime: 2m 49s\n",
      "140000 out of 169824 Finished, Runtime: 2m 55s\n",
      "145000 out of 169824 Finished, Runtime: 3m 2s\n",
      "150000 out of 169824 Finished, Runtime: 3m 8s\n",
      "155000 out of 169824 Finished, Runtime: 3m 14s\n",
      "160000 out of 169824 Finished, Runtime: 3m 20s\n",
      "165000 out of 169824 Finished, Runtime: 3m 26s\n",
      "total rank 4 sample: 123530\n"
     ]
    }
   ],
   "source": [
    "# load checkpoint\n",
    "T_running = utl.get_runtime_marker()\n",
    "\n",
    "df_time_series = utl.read_time_series_data(\"all_dataset\")\n",
    "\n",
    "idx_size = df_time_series[0].shape[0]\n",
    "\n",
    "# Only aquire first 4 consecutive good data\n",
    "idx_full_rank = []\n",
    "for idx in np.arange(df_time_series[0].shape[0]):\n",
    "# for idx in np.arange(50): # debugging\n",
    "    \n",
    "    # get sample at index idx\n",
    "    row_df = [df_time.iloc[idx] for df_time in df_time_series]\n",
    "\n",
    "    # check the avalibility of data each day\n",
    "    is_good_at_diff_time = []\n",
    "    for time in np.arange(9):\n",
    "        for data in row_df[time]:\n",
    "            if (np.isnan(data)):\n",
    "                is_good_at_diff_time.append(False)\n",
    "                break\n",
    "        else:\n",
    "            is_good_at_diff_time.append(True)\n",
    "\n",
    "    \n",
    "    # only record the idx and strating time of first 4 consecutive good data\n",
    "    for i in np.arange(9 - RANK + 1):\n",
    "        if (reduce_as_AND(is_good_at_diff_time[i:i+4])):\n",
    "            idx_full_rank.append((idx, i))\n",
    "            break    \n",
    "        \n",
    "    if (idx % 5000 == 0):\n",
    "        print(\"{0} out of {1} Finished, Runtime: {2}\".format(\n",
    "            idx, \n",
    "            idx_size, \n",
    "            utl.format_time_s_2_hms(utl.get_runtime_in_second(T_running))\n",
    "        ))\n",
    "\n",
    "print(\"total rank 4 sample: {0}\".format(len(idx_full_rank)))"
   ]
  },
  {
   "cell_type": "markdown",
   "id": "95fc5424-1f8c-4fb7-8540-eeb948e8bce5",
   "metadata": {},
   "source": [
    "(Note: total full rank sample: 48750 (49061 without night_day dataset))"
   ]
  },
  {
   "cell_type": "code",
   "execution_count": 5,
   "id": "af423c64-6ff7-45a3-8e41-f09af9a7e51e",
   "metadata": {},
   "outputs": [],
   "source": [
    "df_time_series_rank_4 = utl.create_empty_time_series_data()"
   ]
  },
  {
   "cell_type": "code",
   "execution_count": 6,
   "id": "2e753455-cf2f-4ea6-a1ca-4652d95ad682",
   "metadata": {},
   "outputs": [
    {
     "name": "stdout",
     "output_type": "stream",
     "text": [
      "0 out of 123530 Finished, Runtime: 0s\n",
      "5000 out of 123530 Finished, Runtime: 26s\n",
      "10000 out of 123530 Finished, Runtime: 53s\n",
      "15000 out of 123530 Finished, Runtime: 1m 21s\n",
      "20000 out of 123530 Finished, Runtime: 1m 50s\n",
      "25000 out of 123530 Finished, Runtime: 2m 21s\n",
      "30000 out of 123530 Finished, Runtime: 3m 12s\n",
      "35000 out of 123530 Finished, Runtime: 4m 13s\n",
      "40000 out of 123530 Finished, Runtime: 5m 7s\n",
      "45000 out of 123530 Finished, Runtime: 5m 56s\n",
      "50000 out of 123530 Finished, Runtime: 7m 18s\n",
      "55000 out of 123530 Finished, Runtime: 8m 45s\n",
      "60000 out of 123530 Finished, Runtime: 10m 1s\n",
      "65000 out of 123530 Finished, Runtime: 11m 2s\n",
      "70000 out of 123530 Finished, Runtime: 12m 4s\n",
      "75000 out of 123530 Finished, Runtime: 13m 4s\n",
      "80000 out of 123530 Finished, Runtime: 14m 8s\n",
      "85000 out of 123530 Finished, Runtime: 15m 14s\n",
      "90000 out of 123530 Finished, Runtime: 16m 23s\n",
      "95000 out of 123530 Finished, Runtime: 17m 35s\n",
      "100000 out of 123530 Finished, Runtime: 18m 51s\n",
      "105000 out of 123530 Finished, Runtime: 20m 25s\n",
      "110000 out of 123530 Finished, Runtime: 22m 17s\n",
      "115000 out of 123530 Finished, Runtime: 24m 9s\n",
      "120000 out of 123530 Finished, Runtime: 26m 25s\n"
     ]
    }
   ],
   "source": [
    "T_running = utl.get_runtime_marker()\n",
    "counter = 0\n",
    "\n",
    "for data in idx_full_rank:\n",
    "    idx, starting_time = data\n",
    "    for time in np.arange(RANK):\n",
    "        df_time_series_rank_4[time] = df_time_series_rank_4[time].append(df_time_series[starting_time + time].iloc[idx, :], ignore_index=True)\n",
    "        \n",
    "    if (counter % 5000 == 0):\n",
    "        print(\"{0} out of {1} Finished, Runtime: {2}\".format(\n",
    "            counter, \n",
    "            len(idx_full_rank), \n",
    "            utl.format_time_s_2_hms(utl.get_runtime_in_second(T_running))\n",
    "        ))\n",
    "    counter += 1"
   ]
  },
  {
   "cell_type": "code",
   "execution_count": 7,
   "id": "903f7602-c872-4748-b7fb-f4d569a96ab7",
   "metadata": {},
   "outputs": [],
   "source": [
    "\n",
    "# save checkpoint\n",
    "utl.save_time_series_data(\"rank_4_dataset\", df_time_series_rank_4)"
   ]
  },
  {
   "cell_type": "markdown",
   "id": "9f9a8fca-8ef1-47d3-9d77-99e517e8e077",
   "metadata": {},
   "source": [
    "***"
   ]
  },
  {
   "cell_type": "code",
   "execution_count": 8,
   "id": "8d8349fd-12cc-44dd-a4ba-9c58c7e9a681",
   "metadata": {},
   "outputs": [],
   "source": [
    "# load checkpoint\n",
    "df_time_series_rank_4 = utl.read_time_series_data(\"rank_4_dataset\")"
   ]
  },
  {
   "cell_type": "code",
   "execution_count": 9,
   "id": "7f474c66-a295-4b22-a09c-f2e2ee4a48f2",
   "metadata": {},
   "outputs": [
    {
     "data": {
      "text/plain": [
       "[           index     LTS     SST  Subsidence  Night_Day     RH       q   wsp  \\\n",
       " 0            6.0  19.750  297.03      0.0144        1.0  78.48  0.0076  5.50   \n",
       " 1            7.0  19.840  296.37      0.0529        1.0  76.44  0.0067  6.24   \n",
       " 2            8.0  20.410  295.42      0.0828        1.0  74.89  0.0029  6.40   \n",
       " 3           11.0  22.370  294.52      0.0646        1.0  68.40  0.0013  7.42   \n",
       " 4           12.0  21.670  294.41      0.0791        1.0  68.01  0.0009  7.53   \n",
       " ...          ...     ...     ...         ...        ...    ...     ...   ...   \n",
       " 123525  169820.0  22.659  294.55      0.1073        1.0  76.91  0.0010  6.41   \n",
       " 123526  169821.0  22.914  294.97      0.0685        1.0  72.14  0.0012  6.91   \n",
       " 123527  169822.0  21.300  295.23      0.0492        1.0  76.59  0.0049  6.57   \n",
       " 123528  169823.0  17.644  296.33      0.0707        0.0  83.06  0.0066  6.04   \n",
       " 123529  169824.0  16.698  296.79      0.0084        1.0  79.10  0.0079  5.90   \n",
       " \n",
       "           TCC  UnobstructedLC  \n",
       " 0       66.96          6417.0  \n",
       " 1       78.04          7398.0  \n",
       " 2       94.22          9051.0  \n",
       " 3       61.09          6196.0  \n",
       " 4       76.57          7816.0  \n",
       " ...       ...             ...  \n",
       " 123525  87.78          9199.0  \n",
       " 123526  89.57          9489.0  \n",
       " 123527  86.91          9500.0  \n",
       " 123528  40.60          3388.0  \n",
       " 123529  58.80          6876.0  \n",
       " \n",
       " [123530 rows x 10 columns],\n",
       "            index     LTS     SST  Subsidence  Night_Day     RH       q   wsp  \\\n",
       " 0            6.0  19.580  297.21     -0.0024        0.0  77.37  0.0074  4.14   \n",
       " 1            7.0  18.990  297.59      0.0067        0.0  78.81  0.0059  5.12   \n",
       " 2            8.0  19.130  296.73      0.0203        0.0  79.76  0.0045  5.77   \n",
       " 3           11.0  20.820  294.92     -0.0386        0.0  74.71  0.0024  7.84   \n",
       " 4           12.0  21.750  294.47      0.0199        0.0  73.56  0.0019  8.51   \n",
       " ...          ...     ...     ...         ...        ...    ...     ...   ...   \n",
       " 123525  169820.0  23.084  294.87     -0.0270        0.0  80.49  0.0010  7.03   \n",
       " 123526  169821.0  22.469  295.13      0.0087        0.0  79.96  0.0038  6.30   \n",
       " 123527  169822.0  20.406  295.48     -0.1028        0.0  82.10  0.0042  6.45   \n",
       " 123528  169823.0  16.047  297.11     -0.0272        1.0  79.34  0.0071  6.15   \n",
       " 123529  169824.0  16.929  297.25     -0.0024        0.0  80.51  0.0058  5.53   \n",
       " \n",
       "           TCC  UnobstructedLC  \n",
       " 0       94.81          9489.0  \n",
       " 1       96.29          9495.0  \n",
       " 2       97.40          9500.0  \n",
       " 3       97.74          9439.0  \n",
       " 4       98.89          9500.0  \n",
       " ...       ...             ...  \n",
       " 123525  99.43          9500.0  \n",
       " 123526  99.72          9495.0  \n",
       " 123527  98.43          9405.0  \n",
       " 123528  82.84          8303.0  \n",
       " 123529  37.90          3558.0  \n",
       " \n",
       " [123530 rows x 10 columns],\n",
       "            index     LTS     SST  Subsidence  Night_Day     RH       q   wsp  \\\n",
       " 0            6.0  19.080  297.99      0.1305        1.0  73.87  0.0063  4.04   \n",
       " 1            7.0  18.480  298.62      0.1089        1.0  75.10  0.0052  5.96   \n",
       " 2            8.0  18.020  298.22      0.0901        1.0  74.80  0.0050  6.45   \n",
       " 3           11.0  19.970  295.42      0.0806        1.0  76.13  0.0015  7.01   \n",
       " 4           12.0  20.540  294.91      0.0393        1.0  74.65  0.0022  7.63   \n",
       " ...          ...     ...     ...         ...        ...    ...     ...   ...   \n",
       " 123525  169820.0  21.721  295.40      0.0557        1.0  75.06  0.0032  7.15   \n",
       " 123526  169821.0  21.158  295.55     -0.0417        1.0  76.03  0.0048  6.77   \n",
       " 123527  169822.0  19.381  296.01     -0.1093        1.0  79.38  0.0038  6.79   \n",
       " 123528  169823.0  16.038  297.71     -0.0269        0.0  80.05  0.0062  6.37   \n",
       " 123529  169824.0  15.650  297.66      0.0457        1.0  76.04  0.0046  5.45   \n",
       " \n",
       "           TCC  UnobstructedLC  \n",
       " 0       52.68          5789.0  \n",
       " 1       42.56          4901.0  \n",
       " 2       46.15          4944.0  \n",
       " 3       63.66          6056.0  \n",
       " 4       93.51          8945.0  \n",
       " ...       ...             ...  \n",
       " 123525  95.26          9223.0  \n",
       " 123526  89.38          8717.0  \n",
       " 123527  90.30          8932.0  \n",
       " 123528  47.84          4557.0  \n",
       " 123529   9.83          1326.0  \n",
       " \n",
       " [123530 rows x 10 columns],\n",
       "            index     LTS     SST  Subsidence  Night_Day     RH       q   wsp  \\\n",
       " 0            6.0  18.760  298.23      0.0138        0.0  76.46  0.0055  4.58   \n",
       " 1            7.0  17.550  299.21      0.0752        0.0  77.80  0.0041  5.47   \n",
       " 2            8.0  17.110  298.97      0.0585        0.0  75.99  0.0046  5.80   \n",
       " 3           11.0  18.870  296.51     -0.0328        0.0  79.23  0.0009  8.54   \n",
       " 4           12.0  20.410  295.42      0.0099        0.0  78.28  0.0018  9.31   \n",
       " ...          ...     ...     ...         ...        ...    ...     ...   ...   \n",
       " 123525  169820.0  21.065  296.02      0.0260        0.0  80.92  0.0038  7.46   \n",
       " 123526  169821.0  20.361  296.26      0.0077        0.0  79.95  0.0035  7.02   \n",
       " 123527  169822.0  18.365  296.96     -0.0519        0.0  80.66  0.0032  7.04   \n",
       " 123528  169823.0  15.031  298.09      0.0460        1.0  76.86  0.0045  6.80   \n",
       " 123529  169824.0  15.056  298.19      0.0289        0.0  72.31  0.0051  5.64   \n",
       " \n",
       "           TCC  UnobstructedLC  \n",
       " 0       62.49          5983.0  \n",
       " 1       12.72          1262.0  \n",
       " 2       34.17          3642.0  \n",
       " 3       93.31          9361.0  \n",
       " 4       95.43          9462.0  \n",
       " ...       ...             ...  \n",
       " 123525  97.54          9487.0  \n",
       " 123526  95.50          9257.0  \n",
       " 123527  93.23          8968.0  \n",
       " 123528  16.63          1586.0  \n",
       " 123529  45.71          4300.0  \n",
       " \n",
       " [123530 rows x 10 columns],\n",
       " Empty DataFrame\n",
       " Columns: [index, LTS, SST, Subsidence, Night_Day, RH, q, wsp, TCC, UnobstructedLC]\n",
       " Index: [],\n",
       " Empty DataFrame\n",
       " Columns: [index, LTS, SST, Subsidence, Night_Day, RH, q, wsp, TCC, UnobstructedLC]\n",
       " Index: [],\n",
       " Empty DataFrame\n",
       " Columns: [index, LTS, SST, Subsidence, Night_Day, RH, q, wsp, TCC, UnobstructedLC]\n",
       " Index: [],\n",
       " Empty DataFrame\n",
       " Columns: [index, LTS, SST, Subsidence, Night_Day, RH, q, wsp, TCC, UnobstructedLC]\n",
       " Index: [],\n",
       " Empty DataFrame\n",
       " Columns: [index, LTS, SST, Subsidence, Night_Day, RH, q, wsp, TCC, UnobstructedLC]\n",
       " Index: []]"
      ]
     },
     "execution_count": 9,
     "metadata": {},
     "output_type": "execute_result"
    }
   ],
   "source": [
    "df_time_series_rank_4"
   ]
  },
  {
   "cell_type": "code",
   "execution_count": null,
   "id": "1176ca79-a43c-432f-83bd-3b56ee6bc506",
   "metadata": {},
   "outputs": [],
   "source": []
  },
  {
   "cell_type": "code",
   "execution_count": null,
   "id": "ef2659c2-e99f-4444-a40c-9b50f990f89d",
   "metadata": {},
   "outputs": [],
   "source": []
  },
  {
   "cell_type": "code",
   "execution_count": null,
   "id": "3ed97f13-cf86-4b00-b16d-5faa78f3c26a",
   "metadata": {},
   "outputs": [],
   "source": []
  },
  {
   "cell_type": "code",
   "execution_count": null,
   "id": "c8481f5f-4d54-4cca-afcd-497ba576d596",
   "metadata": {},
   "outputs": [],
   "source": []
  }
 ],
 "metadata": {
  "kernelspec": {
   "display_name": "Python 3 (ipykernel)",
   "language": "python",
   "name": "python3"
  },
  "language_info": {
   "codemirror_mode": {
    "name": "ipython",
    "version": 3
   },
   "file_extension": ".py",
   "mimetype": "text/x-python",
   "name": "python",
   "nbconvert_exporter": "python",
   "pygments_lexer": "ipython3",
   "version": "3.8.12"
  }
 },
 "nbformat": 4,
 "nbformat_minor": 5
}
