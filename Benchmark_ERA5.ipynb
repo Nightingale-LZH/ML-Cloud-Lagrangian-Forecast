{
 "cells": [
  {
   "cell_type": "code",
   "execution_count": null,
   "id": "c32b9dd7-0589-470b-9d4a-63085affa3aa",
   "metadata": {},
   "outputs": [],
   "source": [
    "import numpy as np\n",
    "import scipy as sp\n",
    "import scipy.stats as sp_stats\n",
    "import pandas as pd\n",
    "import torch\n",
    "import torch.nn as nn\n",
    "import torch.nn.functional as F\n",
    "import matplotlib.pyplot as plt\n",
    "import LZH_Utilities as utl"
   ]
  },
  {
   "cell_type": "code",
   "execution_count": null,
   "id": "efe4e3b5-e5fe-4d94-a2a9-e81c63cd10bf",
   "metadata": {},
   "outputs": [],
   "source": [
    "def transpose_stack(arr):\n",
    "    return np.array([arr]).T\n",
    "\n",
    "def tsr(arr):\n",
    "    return torch.tensor(arr)\n",
    "\n",
    "def plot(x, y, x_label=\"\", y_label=\"\", legend=\"\", title=\"\"):\n",
    "    plt.figure(figsize=[8, 6], dpi=300)\n",
    "    \n",
    "    if (type(legend) is list):\n",
    "        for yy in y:\n",
    "            plt.plot(x, yy)\n",
    "        plt.legend(legend)\n",
    "    else: \n",
    "        plt.plot(x, y)\n",
    "        \n",
    "    plt.xlabel(x_label)\n",
    "    plt.ylabel(y_label)\n",
    "    plt.title(title)\n",
    "    plt.show()"
   ]
  },
  {
   "cell_type": "code",
   "execution_count": null,
   "id": "5171d5f5-2adf-4669-928c-187e2883bfca",
   "metadata": {},
   "outputs": [],
   "source": [
    "def plot_diff_percentage(x, y, x_label=\"\", y_label=\"\", title=\"\"):\n",
    "    plt.figure(figsize=[8, 6], dpi=300)\n",
    "    \n",
    "    x_fit = np.linspace(0, 100, 1000)\n",
    "    y_fit1 = np.polyval(np.polyfit(x, y, 1), x_fit)\n",
    "    \n",
    "    plt.scatter(x, y, s=0.5, c='k')\n",
    "    plt.plot(x_fit, y_fit1, \"r\")\n",
    "        \n",
    "    plt.xlabel(x_label)\n",
    "    plt.ylabel(y_label)\n",
    "    plt.legend([\"linear regression\", \"data\"])\n",
    "    plt.ylim([0, 100])\n",
    "    plt.xlim([0, 100])\n",
    "    plt.title(title)\n",
    "    plt.show()\n",
    "    \n",
    "    result = sp_stats.linregress(x, y)\n",
    "    print(\"     slope: {0}\".format(result.slope))\n",
    "    print(\" intercept: {0}\".format(result.intercept))\n",
    "    print(\"corr coeff: {0}\".format(result.rvalue))\n",
    "    print(\"  variance: {0}\".format(result.rvalue ** 2))\n"
   ]
  },
  {
   "cell_type": "code",
   "execution_count": null,
   "id": "62b2c989-efd5-4c0b-a727-f3fc2f5c6563",
   "metadata": {},
   "outputs": [],
   "source": [
    "df = utl.read_time_series_data(\"full_rank_dataset_ERA5\")"
   ]
  },
  {
   "cell_type": "code",
   "execution_count": null,
   "id": "b62e12ef-2210-43dc-b975-96991778cac4",
   "metadata": {},
   "outputs": [],
   "source": [
    "idx_test_set = np.random.choice(np.arange(df[0].shape[0]), [int(0.1 * df[0].shape[0])], False)\n",
    "idx_training_set = np.delete(np.arange(df[0].shape[0]), idx_test_set)"
   ]
  },
  {
   "cell_type": "code",
   "execution_count": null,
   "id": "89b003c5-7589-46f0-bc44-005940e706cc",
   "metadata": {},
   "outputs": [],
   "source": [
    "time_arr = np.arange(9)\n",
    "\n",
    "X_full = [np.c_[df[time]['ERA5'].to_numpy()] for time in time_arr]\n",
    "y_hat_full = [np.c_[df[time]['TCC'].to_numpy()] for time in time_arr]\n",
    "\n",
    "X_train = np.array([X_full[time][idx_training_set] for time in time_arr])\n",
    "y_hat_train = np.array([y_hat_full[time][idx_training_set] for time in time_arr])\n",
    "\n",
    "X_test = np.array([X_full[time][idx_test_set] for time in time_arr])\n",
    "y_hat_test = np.array([y_hat_full[time][idx_test_set] for time in time_arr])"
   ]
  },
  {
   "cell_type": "code",
   "execution_count": null,
   "id": "4d0e7964-9cbd-4699-b4ef-d5bd9a44ed07",
   "metadata": {},
   "outputs": [],
   "source": [
    "# transform them from shape[n:1] into shape[n]\n",
    "plot_y_fit = X_test[-1][:, 0]\n",
    "plot_y_hat = y_hat_test[-1][:, 0]"
   ]
  },
  {
   "cell_type": "code",
   "execution_count": null,
   "id": "b76b68a2-25b2-446e-9ea0-ccc0f2f74d13",
   "metadata": {},
   "outputs": [],
   "source": [
    "plot_diff_percentage(plot_y_hat, plot_y_fit, \"true\", \"fit\", \"ERA5 Prediction\")"
   ]
  },
  {
   "cell_type": "code",
   "execution_count": null,
   "id": "44bfb606-6289-406f-87d7-ea9eb12fa041",
   "metadata": {},
   "outputs": [],
   "source": [
    "for idx in np.arange(9):\n",
    "    plot_y_fit = X_test[idx][:, 0]\n",
    "    plot_y_hat = y_hat_test[idx][:, 0]\n",
    "    plot_diff_percentage(plot_y_hat, plot_y_fit, \"true\", \"fit\", \"T{0}\".format(idx))"
   ]
  },
  {
   "cell_type": "code",
   "execution_count": null,
   "id": "6a3bb6aa-9c4a-4dd8-872e-84d4496e2ca7",
   "metadata": {},
   "outputs": [],
   "source": [
    "y_fit_series = []\n",
    "for idx in np.arange(9):\n",
    "    y_fit_series.append(X_test[idx])\n",
    "    \n",
    "y_fit_series = np.array(y_fit_series)\n",
    "\n",
    "for i in np.arange(10):\n",
    "    idx = np.random.randint(0, y_hat_test.shape[1])\n",
    "    plot(\n",
    "        np.arange(9), \n",
    "        (y_fit_series[:, idx, 0], y_hat_test[:, idx, 0]), \n",
    "        x_label=\"T\", \n",
    "        y_label=\"TCC %\", \n",
    "        legend=[\"fit\", \"true\"], \n",
    "        title=\"Time Series Prediction, Sample: {0}\".format(idx)\n",
    "    )"
   ]
  },
  {
   "cell_type": "markdown",
   "id": "7d14e5ce-4ae4-4d8a-adb0-0d59076880ec",
   "metadata": {},
   "source": [
    "***"
   ]
  },
  {
   "cell_type": "code",
   "execution_count": null,
   "id": "6331ab3c-4c80-490d-a428-31f4af29284f",
   "metadata": {},
   "outputs": [],
   "source": [
    "RECORD_FILE_NAME = \"Output/ERA5_R_value_res.csv\"\n",
    "def test_and_record():\n",
    "\n",
    "    idx_test_set = np.random.choice(np.arange(df[0].shape[0]), [int(0.1 * df[0].shape[0])], False)\n",
    "    idx_training_set = np.delete(np.arange(df[0].shape[0]), idx_test_set)\n",
    "\n",
    "    time_arr = np.arange(9)\n",
    "\n",
    "    X_full = [np.c_[df[time]['ERA5'].to_numpy()] for time in time_arr]\n",
    "    y_hat_full = [np.c_[df[time]['TCC'].to_numpy()] for time in time_arr]\n",
    "\n",
    "    X_train = np.array([X_full[time][idx_training_set] for time in time_arr])\n",
    "    y_hat_train = np.array([y_hat_full[time][idx_training_set] for time in time_arr])\n",
    "\n",
    "    X_test = np.array([X_full[time][idx_test_set] for time in time_arr])\n",
    "    y_hat_test = np.array([y_hat_full[time][idx_test_set] for time in time_arr])\n",
    "\n",
    "    # plot_diff_percentage(plot_y_hat, plot_y_fit, \"true\", \"fit\")\n",
    "    \n",
    "    # transform them from shape[n:1] into shape[n]\n",
    "    plot_y_fit = X_test[-1][:, 0]\n",
    "    plot_y_hat = y_hat_test[-1][:, 0]\n",
    "    \n",
    "    result = sp_stats.linregress(plot_y_hat, plot_y_fit)\n",
    "\n",
    "    # Append Data file\n",
    "    pd.concat(\n",
    "        [\n",
    "            pd.read_csv(RECORD_FILE_NAME), \n",
    "            pd.DataFrame(\n",
    "                {\n",
    "                    \"m\": [result.slope], \n",
    "                    \"b\": [result.intercept], \n",
    "                    \"r\": [result.rvalue], \n",
    "                    \"loss\": [0]\n",
    "                }\n",
    "            )\n",
    "        ], \n",
    "        ignore_index=True\n",
    "    ).to_csv(\n",
    "        RECORD_FILE_NAME, \n",
    "        index=False\n",
    "    )\n",
    "    \n",
    "    print(\"\\tr value: {0}\".format(result))"
   ]
  },
  {
   "cell_type": "code",
   "execution_count": null,
   "id": "cb4b8f0a-9e04-4182-88c8-b743cb3e915c",
   "metadata": {},
   "outputs": [],
   "source": [
    "# Create Data file\n",
    "# pd.DataFrame(columns=[\"m\", \"b\", \"r\", \"loss\"]).to_csv(RECORD_FILE_NAME, index=False)"
   ]
  },
  {
   "cell_type": "code",
   "execution_count": null,
   "id": "11de60b4-0bd5-4bb5-9d62-98a7e5e7a243",
   "metadata": {},
   "outputs": [],
   "source": [
    "for i in np.arange(100):\n",
    "    print(\"-------- {0} START --------\".format(i))\n",
    "    test_and_record()\n",
    "    print(\"--------  {0} END  --------\".format(i))"
   ]
  },
  {
   "cell_type": "code",
   "execution_count": null,
   "id": "35680730-6fea-41b5-bdd8-5cfa36b83e10",
   "metadata": {},
   "outputs": [],
   "source": []
  }
 ],
 "metadata": {
  "kernelspec": {
   "display_name": "Python 3 (ipykernel)",
   "language": "python",
   "name": "python3"
  },
  "language_info": {
   "codemirror_mode": {
    "name": "ipython",
    "version": 3
   },
   "file_extension": ".py",
   "mimetype": "text/x-python",
   "name": "python",
   "nbconvert_exporter": "python",
   "pygments_lexer": "ipython3",
   "version": "3.8.16"
  }
 },
 "nbformat": 4,
 "nbformat_minor": 5
}
